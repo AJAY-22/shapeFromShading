{
 "cells": [
  {
   "cell_type": "code",
   "execution_count": 1,
   "metadata": {},
   "outputs": [],
   "source": [
    "import numpy as np\n",
    "p = np.load(r\"C:\\Users\\91726\\Desktop\\CMInDS_Material\\SEM_4\\A1\\output\\sphere\\r=1.0\\p_array_.npy\")\n",
    "rec_p = np.load(r'C:\\Users\\91726\\Desktop\\CMInDS_Material\\SEM_4\\A1\\output\\sphere\\\\r=1.0\\p_recovered.npy')"
   ]
  },
  {
   "cell_type": "code",
   "execution_count": null,
   "metadata": {},
   "outputs": [
    {
     "name": "stdout",
     "output_type": "stream",
     "text": [
      "[[ 1.45141747e+04 -6.22731745e-01  1.29790425e+04 ... -9.33441982e-01\n",
      "   1.48185974e+04  1.18672636e+04]\n",
      " [-2.04812334e-01 -8.59637092e-01 -5.50555225e-01 ... -3.51251229e-01\n",
      "  -2.71052416e-01 -1.09961807e-01]\n",
      " [ 1.34330486e+04 -3.09901548e-01  3.25857947e+03 ... -6.52497137e-01\n",
      "  -8.16824351e-01  1.04643466e+04]\n",
      " ...\n",
      " [ 7.63668959e+03 -3.77643148e-01 -7.71762624e-01 ... -5.39870634e-01\n",
      "  -2.87465363e-01  1.30370129e+04]\n",
      " [-6.37693850e-01 -6.55610218e-01 -6.12380657e-01 ... -6.03847484e-01\n",
      "   1.42852483e+04  9.74162274e+03]\n",
      " [-9.14532944e-01  9.66074758e+03 -8.35985723e-01 ... -5.39719368e-01\n",
      "  -5.29288026e-01  8.48412253e+03]]\n"
     ]
    }
   ],
   "source": [
    "print(p - rec_p) "
   ]
  },
  {
   "cell_type": "code",
   "execution_count": null,
   "metadata": {},
   "outputs": [],
   "source": []
  }
 ],
 "metadata": {
  "kernelspec": {
   "display_name": "cv",
   "language": "python",
   "name": "python3"
  },
  "language_info": {
   "codemirror_mode": {
    "name": "ipython",
    "version": 3
   },
   "file_extension": ".py",
   "mimetype": "text/x-python",
   "name": "python",
   "nbconvert_exporter": "python",
   "pygments_lexer": "ipython3",
   "version": "3.13.2"
  }
 },
 "nbformat": 4,
 "nbformat_minor": 2
}
